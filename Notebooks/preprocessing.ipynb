{
 "cells": [
  {
   "cell_type": "markdown",
   "id": "0707b406",
   "metadata": {},
   "source": [
    "## Data Preprocessing for Customer Churn Prediction\n",
    "\n",
    "This notebook performs data preprocessing steps to clean and prepare the dataset for modeling.\n"
   ]
  },
  {
   "cell_type": "code",
   "execution_count": 22,
   "id": "608ff2a4",
   "metadata": {},
   "outputs": [],
   "source": [
    "import pandas as pd\n",
    "from sklearn.preprocessing import LabelEncoder,OneHotEncoder,StandardScaler\n",
    "from sklearn .model_selection import train_test_split\n",
    "from imblearn.over_sampling import SMOTE"
   ]
  },
  {
   "cell_type": "code",
   "execution_count": 23,
   "id": "e9303bd8",
   "metadata": {},
   "outputs": [
    {
     "data": {
      "text/html": [
       "<div>\n",
       "<style scoped>\n",
       "    .dataframe tbody tr th:only-of-type {\n",
       "        vertical-align: middle;\n",
       "    }\n",
       "\n",
       "    .dataframe tbody tr th {\n",
       "        vertical-align: top;\n",
       "    }\n",
       "\n",
       "    .dataframe thead th {\n",
       "        text-align: right;\n",
       "    }\n",
       "</style>\n",
       "<table border=\"1\" class=\"dataframe\">\n",
       "  <thead>\n",
       "    <tr style=\"text-align: right;\">\n",
       "      <th></th>\n",
       "      <th>Unnamed: 0</th>\n",
       "      <th>customerID</th>\n",
       "      <th>gender</th>\n",
       "      <th>SeniorCitizen</th>\n",
       "      <th>Partner</th>\n",
       "      <th>Dependents</th>\n",
       "      <th>tenure</th>\n",
       "      <th>PhoneService</th>\n",
       "      <th>MultipleLines</th>\n",
       "      <th>InternetService</th>\n",
       "      <th>...</th>\n",
       "      <th>TechSupport</th>\n",
       "      <th>StreamingTV</th>\n",
       "      <th>StreamingMovies</th>\n",
       "      <th>Contract</th>\n",
       "      <th>PaperlessBilling</th>\n",
       "      <th>PaymentMethod</th>\n",
       "      <th>MonthlyCharges</th>\n",
       "      <th>TotalCharges</th>\n",
       "      <th>Churn</th>\n",
       "      <th>Churn_flag</th>\n",
       "    </tr>\n",
       "  </thead>\n",
       "  <tbody>\n",
       "    <tr>\n",
       "      <th>0</th>\n",
       "      <td>0</td>\n",
       "      <td>7590-VHVEG</td>\n",
       "      <td>Female</td>\n",
       "      <td>No</td>\n",
       "      <td>Yes</td>\n",
       "      <td>No</td>\n",
       "      <td>1</td>\n",
       "      <td>No</td>\n",
       "      <td>NaN</td>\n",
       "      <td>DSL</td>\n",
       "      <td>...</td>\n",
       "      <td>No</td>\n",
       "      <td>No</td>\n",
       "      <td>No</td>\n",
       "      <td>Month-to-month</td>\n",
       "      <td>Yes</td>\n",
       "      <td>Electronic check</td>\n",
       "      <td>29.850000</td>\n",
       "      <td>29.850000</td>\n",
       "      <td>No</td>\n",
       "      <td>0.0</td>\n",
       "    </tr>\n",
       "    <tr>\n",
       "      <th>1</th>\n",
       "      <td>1</td>\n",
       "      <td>5575-GNVDE</td>\n",
       "      <td>Male</td>\n",
       "      <td>No</td>\n",
       "      <td>No</td>\n",
       "      <td>No</td>\n",
       "      <td>34</td>\n",
       "      <td>Yes</td>\n",
       "      <td>No</td>\n",
       "      <td>DSL</td>\n",
       "      <td>...</td>\n",
       "      <td>No</td>\n",
       "      <td>No</td>\n",
       "      <td>No</td>\n",
       "      <td>One year</td>\n",
       "      <td>No</td>\n",
       "      <td>Mailed check</td>\n",
       "      <td>56.950001</td>\n",
       "      <td>1889.500000</td>\n",
       "      <td>No</td>\n",
       "      <td>0.0</td>\n",
       "    </tr>\n",
       "    <tr>\n",
       "      <th>2</th>\n",
       "      <td>2</td>\n",
       "      <td>3668-QPYBK</td>\n",
       "      <td>Male</td>\n",
       "      <td>No</td>\n",
       "      <td>No</td>\n",
       "      <td>No</td>\n",
       "      <td>2</td>\n",
       "      <td>Yes</td>\n",
       "      <td>No</td>\n",
       "      <td>DSL</td>\n",
       "      <td>...</td>\n",
       "      <td>No</td>\n",
       "      <td>No</td>\n",
       "      <td>No</td>\n",
       "      <td>Month-to-month</td>\n",
       "      <td>Yes</td>\n",
       "      <td>Mailed check</td>\n",
       "      <td>53.849998</td>\n",
       "      <td>108.150002</td>\n",
       "      <td>Yes</td>\n",
       "      <td>1.0</td>\n",
       "    </tr>\n",
       "    <tr>\n",
       "      <th>3</th>\n",
       "      <td>3</td>\n",
       "      <td>7795-CFOCW</td>\n",
       "      <td>Male</td>\n",
       "      <td>No</td>\n",
       "      <td>No</td>\n",
       "      <td>No</td>\n",
       "      <td>45</td>\n",
       "      <td>No</td>\n",
       "      <td>NaN</td>\n",
       "      <td>DSL</td>\n",
       "      <td>...</td>\n",
       "      <td>Yes</td>\n",
       "      <td>No</td>\n",
       "      <td>No</td>\n",
       "      <td>One year</td>\n",
       "      <td>No</td>\n",
       "      <td>Bank transfer (automatic)</td>\n",
       "      <td>42.299999</td>\n",
       "      <td>1840.750000</td>\n",
       "      <td>No</td>\n",
       "      <td>0.0</td>\n",
       "    </tr>\n",
       "    <tr>\n",
       "      <th>4</th>\n",
       "      <td>4</td>\n",
       "      <td>9237-HQITU</td>\n",
       "      <td>Female</td>\n",
       "      <td>No</td>\n",
       "      <td>No</td>\n",
       "      <td>No</td>\n",
       "      <td>2</td>\n",
       "      <td>Yes</td>\n",
       "      <td>No</td>\n",
       "      <td>Fiber optic</td>\n",
       "      <td>...</td>\n",
       "      <td>No</td>\n",
       "      <td>No</td>\n",
       "      <td>No</td>\n",
       "      <td>Month-to-month</td>\n",
       "      <td>Yes</td>\n",
       "      <td>Electronic check</td>\n",
       "      <td>70.699997</td>\n",
       "      <td>151.649994</td>\n",
       "      <td>Yes</td>\n",
       "      <td>1.0</td>\n",
       "    </tr>\n",
       "  </tbody>\n",
       "</table>\n",
       "<p>5 rows × 23 columns</p>\n",
       "</div>"
      ],
      "text/plain": [
       "   Unnamed: 0  customerID  gender SeniorCitizen Partner Dependents  tenure  \\\n",
       "0           0  7590-VHVEG  Female            No     Yes         No       1   \n",
       "1           1  5575-GNVDE    Male            No      No         No      34   \n",
       "2           2  3668-QPYBK    Male            No      No         No       2   \n",
       "3           3  7795-CFOCW    Male            No      No         No      45   \n",
       "4           4  9237-HQITU  Female            No      No         No       2   \n",
       "\n",
       "  PhoneService MultipleLines InternetService  ... TechSupport StreamingTV  \\\n",
       "0           No           NaN             DSL  ...          No          No   \n",
       "1          Yes            No             DSL  ...          No          No   \n",
       "2          Yes            No             DSL  ...          No          No   \n",
       "3           No           NaN             DSL  ...         Yes          No   \n",
       "4          Yes            No     Fiber optic  ...          No          No   \n",
       "\n",
       "  StreamingMovies        Contract PaperlessBilling              PaymentMethod  \\\n",
       "0              No  Month-to-month              Yes           Electronic check   \n",
       "1              No        One year               No               Mailed check   \n",
       "2              No  Month-to-month              Yes               Mailed check   \n",
       "3              No        One year               No  Bank transfer (automatic)   \n",
       "4              No  Month-to-month              Yes           Electronic check   \n",
       "\n",
       "  MonthlyCharges TotalCharges Churn  Churn_flag  \n",
       "0      29.850000    29.850000    No         0.0  \n",
       "1      56.950001  1889.500000    No         0.0  \n",
       "2      53.849998   108.150002   Yes         1.0  \n",
       "3      42.299999  1840.750000    No         0.0  \n",
       "4      70.699997   151.649994   Yes         1.0  \n",
       "\n",
       "[5 rows x 23 columns]"
      ]
     },
     "execution_count": 23,
     "metadata": {},
     "output_type": "execute_result"
    }
   ],
   "source": [
    "df=pd.read_csv(r'C:\\Users\\raich\\Desktop\\project2\\-Customer-Churn-Demand-Prediction-Using-ML\\Data\\cleaned_telco.csv')\n",
    "df.head()"
   ]
  },
  {
   "cell_type": "code",
   "execution_count": 24,
   "id": "cfd680d1",
   "metadata": {},
   "outputs": [
    {
     "data": {
      "text/plain": [
       "MultipleLines       269\n",
       "OnlineSecurity      651\n",
       "OnlineBackup        651\n",
       "DeviceProtection    651\n",
       "TechSupport         651\n",
       "StreamingTV         651\n",
       "StreamingMovies     651\n",
       "Churn                 1\n",
       "Churn_flag            1\n",
       "dtype: int64"
      ]
     },
     "execution_count": 24,
     "metadata": {},
     "output_type": "execute_result"
    }
   ],
   "source": [
    "df.isnull().sum()[df.isnull().sum() > 0]"
   ]
  },
  {
   "cell_type": "markdown",
   "id": "07198a86",
   "metadata": {},
   "source": [
    "### Handle Missing Values\n",
    "We drop rows with missing `Churn` values and fill NA in selected service columns with \"No\".\n"
   ]
  },
  {
   "cell_type": "code",
   "execution_count": 25,
   "id": "29575740",
   "metadata": {},
   "outputs": [
    {
     "name": "stdout",
     "output_type": "stream",
     "text": [
      "Churn\n",
      "No     3706\n",
      "Yes    1336\n",
      "Name: count, dtype: int64\n"
     ]
    }
   ],
   "source": [
    "print(pd.Series(df['Churn'].value_counts()))\n",
    "df = df.dropna(subset=['Churn'])\n"
   ]
  },
  {
   "cell_type": "code",
   "execution_count": 26,
   "id": "0b294fc9",
   "metadata": {},
   "outputs": [],
   "source": [
    "col_to_fill=['MultipleLines', 'InternetService', 'OnlineSecurity', 'OnlineBackup', 'DeviceProtection', 'TechSupport', 'StreamingTV', 'StreamingMovies']\n",
    "\n",
    "df[col_to_fill]=df[col_to_fill].fillna('No')\n",
    "\n"
   ]
  },
  {
   "cell_type": "code",
   "execution_count": 27,
   "id": "973fef8b",
   "metadata": {},
   "outputs": [
    {
     "name": "stdout",
     "output_type": "stream",
     "text": [
      "<class 'pandas.core.frame.DataFrame'>\n",
      "Index: 5042 entries, 0 to 5042\n",
      "Data columns (total 23 columns):\n",
      " #   Column            Non-Null Count  Dtype  \n",
      "---  ------            --------------  -----  \n",
      " 0   Unnamed: 0        5042 non-null   int64  \n",
      " 1   customerID        5042 non-null   object \n",
      " 2   gender            5042 non-null   object \n",
      " 3   SeniorCitizen     5042 non-null   object \n",
      " 4   Partner           5042 non-null   object \n",
      " 5   Dependents        5042 non-null   object \n",
      " 6   tenure            5042 non-null   int64  \n",
      " 7   PhoneService      5042 non-null   object \n",
      " 8   MultipleLines     5042 non-null   object \n",
      " 9   InternetService   5042 non-null   object \n",
      " 10  OnlineSecurity    5042 non-null   object \n",
      " 11  OnlineBackup      5042 non-null   object \n",
      " 12  DeviceProtection  5042 non-null   object \n",
      " 13  TechSupport       5042 non-null   object \n",
      " 14  StreamingTV       5042 non-null   object \n",
      " 15  StreamingMovies   5042 non-null   object \n",
      " 16  Contract          5042 non-null   object \n",
      " 17  PaperlessBilling  5042 non-null   object \n",
      " 18  PaymentMethod     5042 non-null   object \n",
      " 19  MonthlyCharges    5042 non-null   float64\n",
      " 20  TotalCharges      5042 non-null   float64\n",
      " 21  Churn             5042 non-null   object \n",
      " 22  Churn_flag        5042 non-null   float64\n",
      "dtypes: float64(3), int64(2), object(18)\n",
      "memory usage: 945.4+ KB\n"
     ]
    }
   ],
   "source": [
    "df.info()"
   ]
  },
  {
   "cell_type": "code",
   "execution_count": 28,
   "id": "cafd9695",
   "metadata": {},
   "outputs": [],
   "source": [
    "df=df.drop(columns=['customerID','Unnamed: 0'])"
   ]
  },
  {
   "cell_type": "code",
   "execution_count": 29,
   "id": "38696daf",
   "metadata": {},
   "outputs": [],
   "source": [
    "col_to_fix=[\n",
    " 'SeniorCitizen',\n",
    " 'Partner',\n",
    " 'Dependents',\n",
    " 'PhoneService',\n",
    " 'MultipleLines',\n",
    " 'OnlineSecurity',\n",
    " 'OnlineBackup',\n",
    " 'DeviceProtection',\n",
    " 'TechSupport',\n",
    " 'StreamingTV',\n",
    " 'StreamingMovies',\n",
    " 'PaperlessBilling',\n",
    " 'Churn']"
   ]
  },
  {
   "cell_type": "code",
   "execution_count": 30,
   "id": "c12c5835",
   "metadata": {},
   "outputs": [],
   "source": [
    "label={}\n",
    "for col in col_to_fix:\n",
    "    if df[col].dtype=='object':\n",
    "        le=LabelEncoder()\n",
    "        df[col]=le.fit_transform(df[col])\n",
    "        label[col]=le"
   ]
  },
  {
   "cell_type": "code",
   "execution_count": 31,
   "id": "eb44198a",
   "metadata": {},
   "outputs": [],
   "source": [
    "one_hot_cols=['gender','InternetService','Contract','PaymentMethod']"
   ]
  },
  {
   "cell_type": "code",
   "execution_count": 32,
   "id": "7233e1d0",
   "metadata": {},
   "outputs": [],
   "source": [
    "\n",
    "# Fix column name formatting just in case\n",
    "df.columns = df.columns.str.strip()\n",
    "\n",
    "# Columns you want to encode\n",
    "one_hot_cols = ['gender', 'InternetService', 'Contract', 'PaymentMethod']\n",
    "\n",
    "# Create OneHotEncoder\n",
    "encoder = OneHotEncoder(drop='first', sparse_output=False)\n",
    "\n",
    "# Fit and transform\n",
    "encoded = encoder.fit_transform(df[one_hot_cols])\n",
    "\n",
    "# Create DataFrame for encoded columns\n",
    "encoded_df = pd.DataFrame(encoded, columns=encoder.get_feature_names_out(one_hot_cols))\n",
    "\n",
    "# Reset index to match with original DataFrame\n",
    "encoded_df.index = df.index\n",
    "\n",
    "# Drop original columns and add encoded ones\n",
    "df = df.drop(one_hot_cols, axis=1)\n",
    "df = pd.concat([df, encoded_df], axis=1)\n"
   ]
  },
  {
   "cell_type": "code",
   "execution_count": 33,
   "id": "2a5ae37b",
   "metadata": {},
   "outputs": [],
   "source": [
    "numeric_cols = ['tenure', 'MonthlyCharges', 'TotalCharges']"
   ]
  },
  {
   "cell_type": "code",
   "execution_count": 34,
   "id": "7c3712d5",
   "metadata": {},
   "outputs": [
    {
     "data": {
      "text/plain": [
       "array([[-1.28728744, -1.17197345, -1.00135582],\n",
       "       [ 0.0583594 , -0.27049061, -0.1808993 ],\n",
       "       [-1.24651026, -0.37361234, -0.96681075],\n",
       "       ...,\n",
       "       [-0.87951567, -1.18028972, -0.86167549],\n",
       "       [-1.1649559 ,  0.30998447, -0.87925686],\n",
       "       [ 1.36322906,  1.34951724,  2.0051906 ]])"
      ]
     },
     "execution_count": 34,
     "metadata": {},
     "output_type": "execute_result"
    }
   ],
   "source": [
    "scalar=StandardScaler()\n",
    "scalar.fit_transform(df[numeric_cols])"
   ]
  },
  {
   "cell_type": "code",
   "execution_count": 35,
   "id": "caa3ef11",
   "metadata": {},
   "outputs": [],
   "source": [
    "#train and test split\n",
    "x=df.drop(columns=['Churn','Churn_flag'],axis=1)\n",
    "y=df['Churn_flag']\n",
    "x_train,x_test,y_train,y_test=train_test_split(x,y,test_size=0.2,random_state=42)"
   ]
  },
  {
   "cell_type": "code",
   "execution_count": 36,
   "id": "215a6a00",
   "metadata": {},
   "outputs": [],
   "source": [
    "# Handle class imbalance using SMOTE\n",
    "smote=SMOTE(random_state=42)\n",
    "x_r, y_r = smote.fit_resample(x_train, y_train)\n",
    "x_train_resampled, x_test_resampled, y_train_resampled, y_test_resampled = train_test_split(x_r, y_r, test_size=0.2)"
   ]
  },
  {
   "cell_type": "code",
   "execution_count": 37,
   "id": "612b5ed0",
   "metadata": {},
   "outputs": [],
   "source": [
    "df.to_csv(r'C:\\Users\\raich\\Desktop\\project2\\-Customer-Churn-Demand-Prediction-Using-ML\\Data\\cleaned_telco2.csv', index=False)"
   ]
  },
  {
   "cell_type": "code",
   "execution_count": 38,
   "id": "52b76694",
   "metadata": {},
   "outputs": [],
   "source": [
    "x_train.to_csv(r'C:\\Users\\raich\\Desktop\\project2\\-Customer-Churn-Demand-Prediction-Using-ML\\Data\\x_train.csv', index=False) # Feature training data\n",
    "x_test.to_csv(r'C:\\Users\\raich\\Desktop\\project2\\-Customer-Churn-Demand-Prediction-Using-ML\\Data\\x_test.csv', index=False)     # Feature testing data\n",
    "y_train.to_csv(r'C:\\Users\\raich\\Desktop\\project2\\-Customer-Churn-Demand-Prediction-Using-ML\\Data\\y_train.csv', index=False) # target training data\n",
    "y_test.to_csv(r'C:\\Users\\raich\\Desktop\\project2\\-Customer-Churn-Demand-Prediction-Using-ML\\Data\\y_test.csv', index=False)     # target testing data\n",
    "# Handle class imbalance using SMOTE\n",
    "x_train_resampled.to_csv(r'C:\\Users\\raich\\Desktop\\project2\\-Customer-Churn-Demand-Prediction-Using-ML\\Data\\x_train_resampled.csv', index=False) # Resampled feature training data\n",
    "y_train_resampled.to_csv(r'C:\\Users\\raich\\Desktop\\project2\\-Customer-Churn-Demand-Prediction-Using-ML\\Data\\y_train_resampled.csv', index=False) # Resampled target training data\n",
    "x_test_resampled.to_csv(r'C:\\Users\\raich\\Desktop\\project2\\-Customer-Churn-Demand-Prediction-Using-ML\\Data\\x_test_resampled.csv', index=False)     # Feature testing data\n",
    "y_test_resampled.to_csv(r'C:\\Users\\raich\\Desktop\\project2\\-Customer-Churn-Demand-Prediction-Using-ML\\Data\\y_test_resampled.csv', index=False)     # target testing data\n"
   ]
  },
  {
   "cell_type": "code",
   "execution_count": 39,
   "id": "1520e59f",
   "metadata": {},
   "outputs": [],
   "source": [
    "from imblearn.combine import SMOTEENN"
   ]
  },
  {
   "cell_type": "code",
   "execution_count": 40,
   "id": "b3f538cf",
   "metadata": {},
   "outputs": [],
   "source": [
    "sm = SMOTEENN()\n",
    "X_res, y_res = sm.fit_resample(x, y)\n",
    "\n",
    "Xr_train, Xr_test, yr_train, yr_test = train_test_split(X_res, y_res, test_size=0.2)"
   ]
  },
  {
   "cell_type": "code",
   "execution_count": 41,
   "id": "5d96afd8",
   "metadata": {},
   "outputs": [],
   "source": [
    "Xr_train.to_csv(r'C:\\Users\\raich\\Desktop\\project2\\-Customer-Churn-Demand-Prediction-Using-ML\\Data\\xr_train.csv', index=False) # Resampled feature training data\n",
    "Xr_test.to_csv(r'C:\\Users\\raich\\Desktop\\project2\\-Customer-Churn-Demand-Prediction-Using-ML\\Data\\xr_test.csv', index=False)     # Resampled feature testing data\n",
    "yr_train.to_csv(r'C:\\Users\\raich\\Desktop\\project2\\-Customer-Churn-Demand-Prediction-Using-ML\\Data\\yr_train.csv', index=False) # Resampled target training data\n",
    "yr_test.to_csv(r'C:\\Users\\raich\\Desktop\\project2\\-Customer-Churn-Demand-Prediction-Using-ML\\Data\\yr_test.csv', index=False)     # Resampled target testing data"
   ]
  },
  {
   "cell_type": "markdown",
   "id": "0f0ef6a7",
   "metadata": {},
   "source": [
    "# ✅ Summary of Preprocessing\n",
    "\n",
    "- Handled missing values\n",
    "- Encoded categorical features\n",
    "- Scaled numeric features\n",
    "- Dataset is ready for training models\n",
    "- Handled class imbalance using SMOTE and SMOTEENN\n",
    "- saved the full preprocessed dataset,training and testing datasets"
   ]
  }
 ],
 "metadata": {
  "kernelspec": {
   "display_name": "base",
   "language": "python",
   "name": "python3"
  },
  "language_info": {
   "codemirror_mode": {
    "name": "ipython",
    "version": 3
   },
   "file_extension": ".py",
   "mimetype": "text/x-python",
   "name": "python",
   "nbconvert_exporter": "python",
   "pygments_lexer": "ipython3",
   "version": "3.12.7"
  }
 },
 "nbformat": 4,
 "nbformat_minor": 5
}
