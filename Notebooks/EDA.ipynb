{
 "cells": [
  {
   "cell_type": "code",
   "execution_count": 2,
   "id": "44d30f8d",
   "metadata": {},
   "outputs": [],
   "source": [
    "import pandas as pd\n",
    "import seaborn as sns\n",
    "import matplotlib.pyplot as plt"
   ]
  },
  {
   "cell_type": "code",
   "execution_count": 3,
   "id": "44181a99",
   "metadata": {},
   "outputs": [],
   "source": [
    "data = pd.read_csv(r'C:\\Users\\raich\\Desktop\\project2\\-Customer-Churn-Demand-Prediction-Using-ML\\Data\\telco_churn.csv')"
   ]
  },
  {
   "cell_type": "code",
   "execution_count": 4,
   "id": "aa0640d6",
   "metadata": {},
   "outputs": [
    {
     "data": {
      "text/html": [
       "<div>\n",
       "<style scoped>\n",
       "    .dataframe tbody tr th:only-of-type {\n",
       "        vertical-align: middle;\n",
       "    }\n",
       "\n",
       "    .dataframe tbody tr th {\n",
       "        vertical-align: top;\n",
       "    }\n",
       "\n",
       "    .dataframe thead th {\n",
       "        text-align: right;\n",
       "    }\n",
       "</style>\n",
       "<table border=\"1\" class=\"dataframe\">\n",
       "  <thead>\n",
       "    <tr style=\"text-align: right;\">\n",
       "      <th></th>\n",
       "      <th>Unnamed: 0</th>\n",
       "      <th>customerID</th>\n",
       "      <th>gender</th>\n",
       "      <th>SeniorCitizen</th>\n",
       "      <th>Partner</th>\n",
       "      <th>Dependents</th>\n",
       "      <th>tenure</th>\n",
       "      <th>PhoneService</th>\n",
       "      <th>MultipleLines</th>\n",
       "      <th>InternetService</th>\n",
       "      <th>...</th>\n",
       "      <th>DeviceProtection</th>\n",
       "      <th>TechSupport</th>\n",
       "      <th>StreamingTV</th>\n",
       "      <th>StreamingMovies</th>\n",
       "      <th>Contract</th>\n",
       "      <th>PaperlessBilling</th>\n",
       "      <th>PaymentMethod</th>\n",
       "      <th>MonthlyCharges</th>\n",
       "      <th>TotalCharges</th>\n",
       "      <th>Churn</th>\n",
       "    </tr>\n",
       "  </thead>\n",
       "  <tbody>\n",
       "    <tr>\n",
       "      <th>0</th>\n",
       "      <td>0</td>\n",
       "      <td>7590-VHVEG</td>\n",
       "      <td>Female</td>\n",
       "      <td>False</td>\n",
       "      <td>True</td>\n",
       "      <td>False</td>\n",
       "      <td>1</td>\n",
       "      <td>False</td>\n",
       "      <td>NaN</td>\n",
       "      <td>DSL</td>\n",
       "      <td>...</td>\n",
       "      <td>False</td>\n",
       "      <td>False</td>\n",
       "      <td>False</td>\n",
       "      <td>False</td>\n",
       "      <td>Month-to-month</td>\n",
       "      <td>True</td>\n",
       "      <td>Electronic check</td>\n",
       "      <td>29.850000</td>\n",
       "      <td>29.850000381469727</td>\n",
       "      <td>False</td>\n",
       "    </tr>\n",
       "    <tr>\n",
       "      <th>1</th>\n",
       "      <td>1</td>\n",
       "      <td>5575-GNVDE</td>\n",
       "      <td>Male</td>\n",
       "      <td>False</td>\n",
       "      <td>False</td>\n",
       "      <td>False</td>\n",
       "      <td>34</td>\n",
       "      <td>True</td>\n",
       "      <td>False</td>\n",
       "      <td>DSL</td>\n",
       "      <td>...</td>\n",
       "      <td>True</td>\n",
       "      <td>False</td>\n",
       "      <td>False</td>\n",
       "      <td>False</td>\n",
       "      <td>One year</td>\n",
       "      <td>False</td>\n",
       "      <td>Mailed check</td>\n",
       "      <td>56.950001</td>\n",
       "      <td>1889.5</td>\n",
       "      <td>False</td>\n",
       "    </tr>\n",
       "    <tr>\n",
       "      <th>2</th>\n",
       "      <td>2</td>\n",
       "      <td>3668-QPYBK</td>\n",
       "      <td>Male</td>\n",
       "      <td>False</td>\n",
       "      <td>False</td>\n",
       "      <td>False</td>\n",
       "      <td>2</td>\n",
       "      <td>True</td>\n",
       "      <td>False</td>\n",
       "      <td>DSL</td>\n",
       "      <td>...</td>\n",
       "      <td>False</td>\n",
       "      <td>False</td>\n",
       "      <td>False</td>\n",
       "      <td>False</td>\n",
       "      <td>Month-to-month</td>\n",
       "      <td>True</td>\n",
       "      <td>Mailed check</td>\n",
       "      <td>53.849998</td>\n",
       "      <td>108.1500015258789</td>\n",
       "      <td>True</td>\n",
       "    </tr>\n",
       "    <tr>\n",
       "      <th>3</th>\n",
       "      <td>3</td>\n",
       "      <td>7795-CFOCW</td>\n",
       "      <td>Male</td>\n",
       "      <td>False</td>\n",
       "      <td>False</td>\n",
       "      <td>False</td>\n",
       "      <td>45</td>\n",
       "      <td>False</td>\n",
       "      <td>NaN</td>\n",
       "      <td>DSL</td>\n",
       "      <td>...</td>\n",
       "      <td>True</td>\n",
       "      <td>True</td>\n",
       "      <td>False</td>\n",
       "      <td>False</td>\n",
       "      <td>One year</td>\n",
       "      <td>False</td>\n",
       "      <td>Bank transfer (automatic)</td>\n",
       "      <td>42.299999</td>\n",
       "      <td>1840.75</td>\n",
       "      <td>False</td>\n",
       "    </tr>\n",
       "    <tr>\n",
       "      <th>4</th>\n",
       "      <td>4</td>\n",
       "      <td>9237-HQITU</td>\n",
       "      <td>Female</td>\n",
       "      <td>False</td>\n",
       "      <td>False</td>\n",
       "      <td>False</td>\n",
       "      <td>2</td>\n",
       "      <td>True</td>\n",
       "      <td>False</td>\n",
       "      <td>Fiber optic</td>\n",
       "      <td>...</td>\n",
       "      <td>False</td>\n",
       "      <td>False</td>\n",
       "      <td>False</td>\n",
       "      <td>False</td>\n",
       "      <td>Month-to-month</td>\n",
       "      <td>True</td>\n",
       "      <td>Electronic check</td>\n",
       "      <td>70.699997</td>\n",
       "      <td>151.64999389648438</td>\n",
       "      <td>True</td>\n",
       "    </tr>\n",
       "  </tbody>\n",
       "</table>\n",
       "<p>5 rows × 22 columns</p>\n",
       "</div>"
      ],
      "text/plain": [
       "   Unnamed: 0  customerID  gender SeniorCitizen Partner Dependents  tenure  \\\n",
       "0           0  7590-VHVEG  Female         False    True      False       1   \n",
       "1           1  5575-GNVDE    Male         False   False      False      34   \n",
       "2           2  3668-QPYBK    Male         False   False      False       2   \n",
       "3           3  7795-CFOCW    Male         False   False      False      45   \n",
       "4           4  9237-HQITU  Female         False   False      False       2   \n",
       "\n",
       "  PhoneService MultipleLines InternetService  ... DeviceProtection  \\\n",
       "0        False           NaN             DSL  ...            False   \n",
       "1         True         False             DSL  ...             True   \n",
       "2         True         False             DSL  ...            False   \n",
       "3        False           NaN             DSL  ...             True   \n",
       "4         True         False     Fiber optic  ...            False   \n",
       "\n",
       "  TechSupport StreamingTV StreamingMovies        Contract PaperlessBilling  \\\n",
       "0       False       False           False  Month-to-month             True   \n",
       "1       False       False           False        One year            False   \n",
       "2       False       False           False  Month-to-month             True   \n",
       "3        True       False           False        One year            False   \n",
       "4       False       False           False  Month-to-month             True   \n",
       "\n",
       "               PaymentMethod MonthlyCharges        TotalCharges  Churn  \n",
       "0           Electronic check      29.850000  29.850000381469727  False  \n",
       "1               Mailed check      56.950001              1889.5  False  \n",
       "2               Mailed check      53.849998   108.1500015258789   True  \n",
       "3  Bank transfer (automatic)      42.299999             1840.75  False  \n",
       "4           Electronic check      70.699997  151.64999389648438   True  \n",
       "\n",
       "[5 rows x 22 columns]"
      ]
     },
     "execution_count": 4,
     "metadata": {},
     "output_type": "execute_result"
    }
   ],
   "source": [
    "data.head()"
   ]
  },
  {
   "cell_type": "code",
   "execution_count": 5,
   "id": "2abe07af",
   "metadata": {},
   "outputs": [
    {
     "name": "stdout",
     "output_type": "stream",
     "text": [
      "<class 'pandas.core.frame.DataFrame'>\n",
      "RangeIndex: 5043 entries, 0 to 5042\n",
      "Data columns (total 22 columns):\n",
      " #   Column            Non-Null Count  Dtype  \n",
      "---  ------            --------------  -----  \n",
      " 0   Unnamed: 0        5043 non-null   int64  \n",
      " 1   customerID        5043 non-null   object \n",
      " 2   gender            5043 non-null   object \n",
      " 3   SeniorCitizen     5043 non-null   object \n",
      " 4   Partner           5043 non-null   object \n",
      " 5   Dependents        5043 non-null   object \n",
      " 6   tenure            5043 non-null   int64  \n",
      " 7   PhoneService      5043 non-null   object \n",
      " 8   MultipleLines     4774 non-null   object \n",
      " 9   InternetService   5043 non-null   object \n",
      " 10  OnlineSecurity    4392 non-null   object \n",
      " 11  OnlineBackup      4392 non-null   object \n",
      " 12  DeviceProtection  4392 non-null   object \n",
      " 13  TechSupport       4392 non-null   object \n",
      " 14  StreamingTV       4392 non-null   object \n",
      " 15  StreamingMovies   4392 non-null   object \n",
      " 16  Contract          5043 non-null   object \n",
      " 17  PaperlessBilling  5043 non-null   object \n",
      " 18  PaymentMethod     5043 non-null   object \n",
      " 19  MonthlyCharges    5043 non-null   float64\n",
      " 20  TotalCharges      5038 non-null   object \n",
      " 21  Churn             5042 non-null   object \n",
      "dtypes: float64(1), int64(2), object(19)\n",
      "memory usage: 866.9+ KB\n"
     ]
    },
    {
     "data": {
      "text/plain": [
       "(None,\n",
       " Index(['Unnamed: 0', 'customerID', 'gender', 'SeniorCitizen', 'Partner',\n",
       "        'Dependents', 'tenure', 'PhoneService', 'MultipleLines',\n",
       "        'InternetService', 'OnlineSecurity', 'OnlineBackup', 'DeviceProtection',\n",
       "        'TechSupport', 'StreamingTV', 'StreamingMovies', 'Contract',\n",
       "        'PaperlessBilling', 'PaymentMethod', 'MonthlyCharges', 'TotalCharges',\n",
       "        'Churn'],\n",
       "       dtype='object'))"
      ]
     },
     "execution_count": 5,
     "metadata": {},
     "output_type": "execute_result"
    }
   ],
   "source": [
    "data.info(),data.columns"
   ]
  },
  {
   "cell_type": "code",
   "execution_count": 6,
   "id": "8c7eeae4",
   "metadata": {},
   "outputs": [
    {
     "data": {
      "text/plain": [
       "(5043, 22)"
      ]
     },
     "execution_count": 6,
     "metadata": {},
     "output_type": "execute_result"
    }
   ],
   "source": [
    "data.shape"
   ]
  },
  {
   "cell_type": "code",
   "execution_count": 7,
   "id": "c9c8c612",
   "metadata": {},
   "outputs": [
    {
     "data": {
      "text/plain": [
       "Unnamed: 0            0\n",
       "customerID            0\n",
       "gender                0\n",
       "SeniorCitizen         0\n",
       "Partner               0\n",
       "Dependents            0\n",
       "tenure                0\n",
       "PhoneService          0\n",
       "MultipleLines       269\n",
       "InternetService       0\n",
       "OnlineSecurity      651\n",
       "OnlineBackup        651\n",
       "DeviceProtection    651\n",
       "TechSupport         651\n",
       "StreamingTV         651\n",
       "StreamingMovies     651\n",
       "Contract              0\n",
       "PaperlessBilling      0\n",
       "PaymentMethod         0\n",
       "MonthlyCharges        0\n",
       "TotalCharges          5\n",
       "Churn                 1\n",
       "dtype: int64"
      ]
     },
     "execution_count": 7,
     "metadata": {},
     "output_type": "execute_result"
    }
   ],
   "source": [
    "data.isnull().sum()"
   ]
  },
  {
   "cell_type": "code",
   "execution_count": 8,
   "id": "f0e110a7",
   "metadata": {},
   "outputs": [
    {
     "data": {
      "text/plain": [
       "OnlineSecurity      651\n",
       "OnlineBackup        651\n",
       "DeviceProtection    651\n",
       "TechSupport         651\n",
       "StreamingTV         651\n",
       "StreamingMovies     651\n",
       "MultipleLines       269\n",
       "TotalCharges          5\n",
       "Churn                 1\n",
       "dtype: int64"
      ]
     },
     "execution_count": 8,
     "metadata": {},
     "output_type": "execute_result"
    }
   ],
   "source": [
    "data.isnull().sum()[data.isnull().sum()>0].sort_values(ascending=False)"
   ]
  },
  {
   "cell_type": "code",
   "execution_count": 9,
   "id": "32547998",
   "metadata": {},
   "outputs": [
    {
     "data": {
      "text/plain": [
       "Unnamed: 0          0.000000\n",
       "customerID          0.000000\n",
       "gender              0.000000\n",
       "SeniorCitizen       0.000000\n",
       "Partner             0.000000\n",
       "Dependents          0.000000\n",
       "tenure              0.000000\n",
       "PhoneService        0.000000\n",
       "MultipleLines       0.053341\n",
       "InternetService     0.000000\n",
       "OnlineSecurity      0.129090\n",
       "OnlineBackup        0.129090\n",
       "DeviceProtection    0.129090\n",
       "TechSupport         0.129090\n",
       "StreamingTV         0.129090\n",
       "StreamingMovies     0.129090\n",
       "Contract            0.000000\n",
       "PaperlessBilling    0.000000\n",
       "PaymentMethod       0.000000\n",
       "MonthlyCharges      0.000000\n",
       "TotalCharges        0.000991\n",
       "Churn               0.000198\n",
       "dtype: float64"
      ]
     },
     "execution_count": 9,
     "metadata": {},
     "output_type": "execute_result"
    }
   ],
   "source": [
    "data.isnull().mean()"
   ]
  },
  {
   "cell_type": "code",
   "execution_count": 10,
   "id": "4aadcb8e",
   "metadata": {},
   "outputs": [
    {
     "name": "stdout",
     "output_type": "stream",
     "text": [
      "11      6\n",
      "16      6\n",
      "21      6\n",
      "22      6\n",
      "33      6\n",
      "       ..\n",
      "2984    6\n",
      "2987    6\n",
      "2989    6\n",
      "2993    6\n",
      "2999    6\n",
      "Length: 653, dtype: int64\n"
     ]
    }
   ],
   "source": [
    "df=data.isnull().sum(axis=1)\n",
    "print(df[df>1])"
   ]
  },
  {
   "cell_type": "code",
   "execution_count": 11,
   "id": "58c6199b",
   "metadata": {},
   "outputs": [
    {
     "data": {
      "text/html": [
       "<div>\n",
       "<style scoped>\n",
       "    .dataframe tbody tr th:only-of-type {\n",
       "        vertical-align: middle;\n",
       "    }\n",
       "\n",
       "    .dataframe tbody tr th {\n",
       "        vertical-align: top;\n",
       "    }\n",
       "\n",
       "    .dataframe thead th {\n",
       "        text-align: right;\n",
       "    }\n",
       "</style>\n",
       "<table border=\"1\" class=\"dataframe\">\n",
       "  <thead>\n",
       "    <tr style=\"text-align: right;\">\n",
       "      <th></th>\n",
       "      <th>Unnamed: 0</th>\n",
       "      <th>customerID</th>\n",
       "      <th>gender</th>\n",
       "      <th>SeniorCitizen</th>\n",
       "      <th>Partner</th>\n",
       "      <th>Dependents</th>\n",
       "      <th>tenure</th>\n",
       "      <th>PhoneService</th>\n",
       "      <th>MultipleLines</th>\n",
       "      <th>InternetService</th>\n",
       "      <th>...</th>\n",
       "      <th>DeviceProtection</th>\n",
       "      <th>TechSupport</th>\n",
       "      <th>StreamingTV</th>\n",
       "      <th>StreamingMovies</th>\n",
       "      <th>Contract</th>\n",
       "      <th>PaperlessBilling</th>\n",
       "      <th>PaymentMethod</th>\n",
       "      <th>MonthlyCharges</th>\n",
       "      <th>TotalCharges</th>\n",
       "      <th>Churn</th>\n",
       "    </tr>\n",
       "  </thead>\n",
       "  <tbody>\n",
       "    <tr>\n",
       "      <th>11</th>\n",
       "      <td>11</td>\n",
       "      <td>7469-LKBCI</td>\n",
       "      <td>Male</td>\n",
       "      <td>False</td>\n",
       "      <td>False</td>\n",
       "      <td>False</td>\n",
       "      <td>16</td>\n",
       "      <td>True</td>\n",
       "      <td>False</td>\n",
       "      <td>No</td>\n",
       "      <td>...</td>\n",
       "      <td>NaN</td>\n",
       "      <td>NaN</td>\n",
       "      <td>NaN</td>\n",
       "      <td>NaN</td>\n",
       "      <td>Two year</td>\n",
       "      <td>False</td>\n",
       "      <td>Credit card (automatic)</td>\n",
       "      <td>18.950001</td>\n",
       "      <td>326.79998779296875</td>\n",
       "      <td>False</td>\n",
       "    </tr>\n",
       "    <tr>\n",
       "      <th>16</th>\n",
       "      <td>16</td>\n",
       "      <td>8191-XWSZG</td>\n",
       "      <td>Female</td>\n",
       "      <td>False</td>\n",
       "      <td>False</td>\n",
       "      <td>False</td>\n",
       "      <td>52</td>\n",
       "      <td>True</td>\n",
       "      <td>False</td>\n",
       "      <td>No</td>\n",
       "      <td>...</td>\n",
       "      <td>NaN</td>\n",
       "      <td>NaN</td>\n",
       "      <td>NaN</td>\n",
       "      <td>NaN</td>\n",
       "      <td>One year</td>\n",
       "      <td>False</td>\n",
       "      <td>Mailed check</td>\n",
       "      <td>20.650000</td>\n",
       "      <td>1022.9500122070312</td>\n",
       "      <td>False</td>\n",
       "    </tr>\n",
       "    <tr>\n",
       "      <th>21</th>\n",
       "      <td>21</td>\n",
       "      <td>1680-VDCWW</td>\n",
       "      <td>Male</td>\n",
       "      <td>False</td>\n",
       "      <td>True</td>\n",
       "      <td>False</td>\n",
       "      <td>12</td>\n",
       "      <td>True</td>\n",
       "      <td>False</td>\n",
       "      <td>No</td>\n",
       "      <td>...</td>\n",
       "      <td>NaN</td>\n",
       "      <td>NaN</td>\n",
       "      <td>NaN</td>\n",
       "      <td>NaN</td>\n",
       "      <td>One year</td>\n",
       "      <td>False</td>\n",
       "      <td>Bank transfer (automatic)</td>\n",
       "      <td>19.799999</td>\n",
       "      <td>202.25</td>\n",
       "      <td>False</td>\n",
       "    </tr>\n",
       "    <tr>\n",
       "      <th>22</th>\n",
       "      <td>22</td>\n",
       "      <td>1066-JKSGK</td>\n",
       "      <td>Male</td>\n",
       "      <td>False</td>\n",
       "      <td>False</td>\n",
       "      <td>False</td>\n",
       "      <td>1</td>\n",
       "      <td>True</td>\n",
       "      <td>False</td>\n",
       "      <td>No</td>\n",
       "      <td>...</td>\n",
       "      <td>NaN</td>\n",
       "      <td>NaN</td>\n",
       "      <td>NaN</td>\n",
       "      <td>NaN</td>\n",
       "      <td>Month-to-month</td>\n",
       "      <td>False</td>\n",
       "      <td>Mailed check</td>\n",
       "      <td>20.150000</td>\n",
       "      <td>20.149999618530273</td>\n",
       "      <td>True</td>\n",
       "    </tr>\n",
       "    <tr>\n",
       "      <th>33</th>\n",
       "      <td>33</td>\n",
       "      <td>7310-EGVHZ</td>\n",
       "      <td>Male</td>\n",
       "      <td>False</td>\n",
       "      <td>False</td>\n",
       "      <td>False</td>\n",
       "      <td>1</td>\n",
       "      <td>True</td>\n",
       "      <td>False</td>\n",
       "      <td>No</td>\n",
       "      <td>...</td>\n",
       "      <td>NaN</td>\n",
       "      <td>NaN</td>\n",
       "      <td>NaN</td>\n",
       "      <td>NaN</td>\n",
       "      <td>Month-to-month</td>\n",
       "      <td>False</td>\n",
       "      <td>Bank transfer (automatic)</td>\n",
       "      <td>20.200001</td>\n",
       "      <td>20.200000762939453</td>\n",
       "      <td>False</td>\n",
       "    </tr>\n",
       "  </tbody>\n",
       "</table>\n",
       "<p>5 rows × 22 columns</p>\n",
       "</div>"
      ],
      "text/plain": [
       "    Unnamed: 0  customerID  gender SeniorCitizen Partner Dependents  tenure  \\\n",
       "11          11  7469-LKBCI    Male         False   False      False      16   \n",
       "16          16  8191-XWSZG  Female         False   False      False      52   \n",
       "21          21  1680-VDCWW    Male         False    True      False      12   \n",
       "22          22  1066-JKSGK    Male         False   False      False       1   \n",
       "33          33  7310-EGVHZ    Male         False   False      False       1   \n",
       "\n",
       "   PhoneService MultipleLines InternetService  ... DeviceProtection  \\\n",
       "11         True         False              No  ...              NaN   \n",
       "16         True         False              No  ...              NaN   \n",
       "21         True         False              No  ...              NaN   \n",
       "22         True         False              No  ...              NaN   \n",
       "33         True         False              No  ...              NaN   \n",
       "\n",
       "   TechSupport StreamingTV StreamingMovies        Contract PaperlessBilling  \\\n",
       "11         NaN         NaN             NaN        Two year            False   \n",
       "16         NaN         NaN             NaN        One year            False   \n",
       "21         NaN         NaN             NaN        One year            False   \n",
       "22         NaN         NaN             NaN  Month-to-month            False   \n",
       "33         NaN         NaN             NaN  Month-to-month            False   \n",
       "\n",
       "                PaymentMethod MonthlyCharges        TotalCharges  Churn  \n",
       "11    Credit card (automatic)      18.950001  326.79998779296875  False  \n",
       "16               Mailed check      20.650000  1022.9500122070312  False  \n",
       "21  Bank transfer (automatic)      19.799999              202.25  False  \n",
       "22               Mailed check      20.150000  20.149999618530273   True  \n",
       "33  Bank transfer (automatic)      20.200001  20.200000762939453  False  \n",
       "\n",
       "[5 rows x 22 columns]"
      ]
     },
     "execution_count": 11,
     "metadata": {},
     "output_type": "execute_result"
    }
   ],
   "source": [
    "data.loc[data.isnull().sum(axis=1)==6].head()"
   ]
  },
  {
   "cell_type": "code",
   "execution_count": 12,
   "id": "5b72482e",
   "metadata": {},
   "outputs": [
    {
     "data": {
      "text/plain": [
       "['Unnamed: 0',\n",
       " 'customerID',\n",
       " 'gender',\n",
       " 'SeniorCitizen',\n",
       " 'Partner',\n",
       " 'Dependents',\n",
       " 'tenure',\n",
       " 'PhoneService',\n",
       " 'MultipleLines',\n",
       " 'InternetService',\n",
       " 'OnlineSecurity',\n",
       " 'OnlineBackup',\n",
       " 'DeviceProtection',\n",
       " 'TechSupport',\n",
       " 'StreamingTV',\n",
       " 'StreamingMovies',\n",
       " 'Contract',\n",
       " 'PaperlessBilling',\n",
       " 'PaymentMethod',\n",
       " 'MonthlyCharges',\n",
       " 'TotalCharges',\n",
       " 'Churn']"
      ]
     },
     "execution_count": 12,
     "metadata": {},
     "output_type": "execute_result"
    }
   ],
   "source": [
    "data.columns.to_list()\n"
   ]
  },
  {
   "cell_type": "code",
   "execution_count": 13,
   "id": "62558791",
   "metadata": {},
   "outputs": [],
   "source": [
    "data['TotalCharges']=pd.to_numeric(data['TotalCharges'],errors='coerce')"
   ]
  },
  {
   "cell_type": "code",
   "execution_count": 14,
   "id": "05c461fb",
   "metadata": {},
   "outputs": [],
   "source": [
    "data.fillna({'TotalCharges':data['TotalCharges'].median()},inplace=True)"
   ]
  },
  {
   "cell_type": "code",
   "execution_count": null,
   "id": "cc89782e",
   "metadata": {},
   "outputs": [
    {
     "name": "stdout",
     "output_type": "stream",
     "text": [
      "customerID :,['7590-VHVEG' '5575-GNVDE' '3668-QPYBK' ... '4801-JZAZL' '8361-LTMKD'\n",
      " '3186-AJIEK']\n",
      "gender :,['Female' 'Male']\n",
      "SeniorCitizen :,['False' 'True' '0' '1']\n",
      "Partner :,['True' 'False' 'No' 'Yes']\n",
      "Dependents :,['False' 'True' 'No' 'Yes']\n",
      "PhoneService :,['False' 'True' 'Yes' 'No']\n",
      "MultipleLines :,[nan 'False' 'True' 'No' 'No phone service' 'Yes']\n",
      "InternetService :,['DSL' 'Fiber optic' 'No']\n",
      "OnlineSecurity :,['False' 'True' nan 'No' 'Yes' 'No internet service']\n",
      "OnlineBackup :,['True' 'False' nan 'No' 'Yes' 'No internet service']\n",
      "DeviceProtection :,['False' 'True' nan 'No' 'Yes' 'No internet service']\n",
      "TechSupport :,['False' 'True' nan 'Yes' 'No' 'No internet service']\n",
      "StreamingTV :,['False' 'True' nan 'No' 'Yes' 'No internet service']\n",
      "StreamingMovies :,['False' 'True' nan 'No' 'Yes' 'No internet service']\n",
      "Contract :,['Month-to-month' 'One year' 'Two year']\n",
      "PaperlessBilling :,['True' 'False' 'Yes' 'No']\n",
      "PaymentMethod :,['Electronic check' 'Mailed check' 'Bank transfer (automatic)'\n",
      " 'Credit card (automatic)']\n",
      "Churn :,['False' 'True' nan 'No' 'Yes']\n"
     ]
    }
   ],
   "source": [
    "for col in data.select_dtypes(include='object').columns:\n",
    "    print(f'{col} :,{data[col].unique()}')"
   ]
  },
  {
   "cell_type": "code",
   "execution_count": 16,
   "id": "5d2326d0",
   "metadata": {},
   "outputs": [],
   "source": [
    "col_to_fix=[\n",
    " 'SeniorCitizen',\n",
    " 'Partner',\n",
    " 'Dependents',\n",
    " 'PhoneService',\n",
    " 'MultipleLines',\n",
    " 'OnlineSecurity',\n",
    " 'OnlineBackup',\n",
    " 'DeviceProtection',\n",
    " 'TechSupport',\n",
    " 'StreamingTV',\n",
    " 'StreamingMovies',\n",
    " 'PaperlessBilling',\n",
    " 'Churn']"
   ]
  },
  {
   "cell_type": "code",
   "execution_count": 17,
   "id": "632fd7c2",
   "metadata": {},
   "outputs": [],
   "source": [
    "# Replace 'True'/'False', '1'/'0' with 'Yes'/'No'\n",
    "for col in col_to_fix:\n",
    "    data[col] = data[col].replace({\n",
    "        'True': 'Yes',\n",
    "        'False': 'No',\n",
    "        '1': 'Yes',\n",
    "        '0': 'No',\n",
    "        'No internet service': 'No',\n",
    "        'No phone service': 'No'\n",
    "    })"
   ]
  },
  {
   "cell_type": "code",
   "execution_count": 18,
   "id": "451db7d6",
   "metadata": {},
   "outputs": [
    {
     "data": {
      "text/plain": [
       "Unnamed: 0            0\n",
       "customerID            0\n",
       "gender                0\n",
       "SeniorCitizen         0\n",
       "Partner               0\n",
       "Dependents            0\n",
       "tenure                0\n",
       "PhoneService          0\n",
       "MultipleLines       269\n",
       "InternetService       0\n",
       "OnlineSecurity      651\n",
       "OnlineBackup        651\n",
       "DeviceProtection    651\n",
       "TechSupport         651\n",
       "StreamingTV         651\n",
       "StreamingMovies     651\n",
       "Contract              0\n",
       "PaperlessBilling      0\n",
       "PaymentMethod         0\n",
       "MonthlyCharges        0\n",
       "TotalCharges          0\n",
       "Churn                 1\n",
       "dtype: int64"
      ]
     },
     "execution_count": 18,
     "metadata": {},
     "output_type": "execute_result"
    }
   ],
   "source": [
    "data.isnull().sum()"
   ]
  },
  {
   "cell_type": "code",
   "execution_count": 19,
   "id": "999a61b5",
   "metadata": {},
   "outputs": [
    {
     "name": "stdout",
     "output_type": "stream",
     "text": [
      "Index(['Unnamed: 0', 'tenure', 'MonthlyCharges', 'TotalCharges'], dtype='object')\n"
     ]
    }
   ],
   "source": [
    "#numeric columns\n",
    "numeric_col=data.select_dtypes(include=['number']).columns\n",
    "print(numeric_col)"
   ]
  },
  {
   "cell_type": "code",
   "execution_count": 20,
   "id": "7e904857",
   "metadata": {},
   "outputs": [],
   "source": [
    "for col in numeric_col:\n",
    "    invalid=data[data[col]<0]\n",
    "    if not invalid.empty:\n",
    "        print(invalid([col]))"
   ]
  },
  {
   "cell_type": "code",
   "execution_count": 21,
   "id": "399d6e42",
   "metadata": {},
   "outputs": [
    {
     "name": "stdout",
     "output_type": "stream",
     "text": [
      "Churn\n",
      "No     3706\n",
      "Yes    1336\n",
      "Name: count, dtype: int64\n"
     ]
    }
   ],
   "source": [
    "# Exploring target variable\n",
    "\n",
    "print(pd.Series(data['Churn']).value_counts())"
   ]
  },
  {
   "cell_type": "code",
   "execution_count": 22,
   "id": "85b11739",
   "metadata": {},
   "outputs": [
    {
     "data": {
      "image/png": "[encoded data removed]",
      "text/plain": [
       "<Figure size 640x480 with 1 Axes>"
      ]
     },
     "metadata": {},
     "output_type": "display_data"
    }
   ],
   "source": [
    "sns.countplot(data,x='Churn')\n",
    "plt.title('churn distribution')\n",
    "plt.show()"
   ]
  },
  {
   "cell_type": "code",
   "execution_count": 23,
   "id": "e49429de",
   "metadata": {},
   "outputs": [
    {
     "data": {
      "text/html": [
       "<div>\n",
       "<style scoped>\n",
       "    .dataframe tbody tr th:only-of-type {\n",
       "        vertical-align: middle;\n",
       "    }\n",
       "\n",
       "    .dataframe tbody tr th {\n",
       "        vertical-align: top;\n",
       "    }\n",
       "\n",
       "    .dataframe thead th {\n",
       "        text-align: right;\n",
       "    }\n",
       "</style>\n",
       "<table border=\"1\" class=\"dataframe\">\n",
       "  <thead>\n",
       "    <tr style=\"text-align: right;\">\n",
       "      <th></th>\n",
       "      <th>Unnamed: 0</th>\n",
       "      <th>tenure</th>\n",
       "      <th>MonthlyCharges</th>\n",
       "      <th>TotalCharges</th>\n",
       "    </tr>\n",
       "  </thead>\n",
       "  <tbody>\n",
       "    <tr>\n",
       "      <th>count</th>\n",
       "      <td>5043.000000</td>\n",
       "      <td>5043.000000</td>\n",
       "      <td>5043.000000</td>\n",
       "      <td>5043.000000</td>\n",
       "    </tr>\n",
       "    <tr>\n",
       "      <th>mean</th>\n",
       "      <td>1305.651993</td>\n",
       "      <td>32.576641</td>\n",
       "      <td>65.090214</td>\n",
       "      <td>2300.633691</td>\n",
       "    </tr>\n",
       "    <tr>\n",
       "      <th>std</th>\n",
       "      <td>801.484415</td>\n",
       "      <td>24.529807</td>\n",
       "      <td>30.068133</td>\n",
       "      <td>2267.965879</td>\n",
       "    </tr>\n",
       "    <tr>\n",
       "      <th>min</th>\n",
       "      <td>0.000000</td>\n",
       "      <td>0.000000</td>\n",
       "      <td>18.400000</td>\n",
       "      <td>18.799999</td>\n",
       "    </tr>\n",
       "    <tr>\n",
       "      <th>25%</th>\n",
       "      <td>630.000000</td>\n",
       "      <td>9.000000</td>\n",
       "      <td>35.775000</td>\n",
       "      <td>418.000000</td>\n",
       "    </tr>\n",
       "    <tr>\n",
       "      <th>50%</th>\n",
       "      <td>1260.000000</td>\n",
       "      <td>29.000000</td>\n",
       "      <td>70.550003</td>\n",
       "      <td>1401.150024</td>\n",
       "    </tr>\n",
       "    <tr>\n",
       "      <th>75%</th>\n",
       "      <td>1890.500000</td>\n",
       "      <td>56.000000</td>\n",
       "      <td>90.050003</td>\n",
       "      <td>3857.575073</td>\n",
       "    </tr>\n",
       "    <tr>\n",
       "      <th>max</th>\n",
       "      <td>2999.000000</td>\n",
       "      <td>72.000000</td>\n",
       "      <td>118.650002</td>\n",
       "      <td>8670.100000</td>\n",
       "    </tr>\n",
       "  </tbody>\n",
       "</table>\n",
       "</div>"
      ],
      "text/plain": [
       "        Unnamed: 0       tenure  MonthlyCharges  TotalCharges\n",
       "count  5043.000000  5043.000000     5043.000000   5043.000000\n",
       "mean   1305.651993    32.576641       65.090214   2300.633691\n",
       "std     801.484415    24.529807       30.068133   2267.965879\n",
       "min       0.000000     0.000000       18.400000     18.799999\n",
       "25%     630.000000     9.000000       35.775000    418.000000\n",
       "50%    1260.000000    29.000000       70.550003   1401.150024\n",
       "75%    1890.500000    56.000000       90.050003   3857.575073\n",
       "max    2999.000000    72.000000      118.650002   8670.100000"
      ]
     },
     "execution_count": 23,
     "metadata": {},
     "output_type": "execute_result"
    }
   ],
   "source": [
    "data.describe()"
   ]
  },
  {
   "cell_type": "code",
   "execution_count": 24,
   "id": "caeefd00",
   "metadata": {},
   "outputs": [
    {
     "name": "stdout",
     "output_type": "stream",
     "text": [
      "\n",
      "tenure stats:\n",
      "count    5043.000000\n",
      "mean       32.576641\n",
      "std        24.529807\n",
      "min         0.000000\n",
      "25%         9.000000\n",
      "50%        29.000000\n",
      "75%        56.000000\n",
      "max        72.000000\n",
      "Name: tenure, dtype: float64\n"
     ]
    },
    {
     "data": {
      "image/png": "[encoded data removed]",
      "text/plain": [
       "<Figure size 640x480 with 1 Axes>"
      ]
     },
     "metadata": {},
     "output_type": "display_data"
    },
    {
     "name": "stdout",
     "output_type": "stream",
     "text": [
      "\n",
      "MonthlyCharges stats:\n",
      "count    5043.000000\n",
      "mean       65.090214\n",
      "std        30.068133\n",
      "min        18.400000\n",
      "25%        35.775000\n",
      "50%        70.550003\n",
      "75%        90.050003\n",
      "max       118.650002\n",
      "Name: MonthlyCharges, dtype: float64\n"
     ]
    },
    {
     "data": {
      "image/png": "[encoded data removed]",
      "text/plain": [
       "<Figure size 640x480 with 1 Axes>"
      ]
     },
     "metadata": {},
     "output_type": "display_data"
    },
    {
     "name": "stdout",
     "output_type": "stream",
     "text": [
      "\n",
      "TotalCharges stats:\n",
      "count    5043.000000\n",
      "mean     2300.633691\n",
      "std      2267.965879\n",
      "min        18.799999\n",
      "25%       418.000000\n",
      "50%      1401.150024\n",
      "75%      3857.575073\n",
      "max      8670.100000\n",
      "Name: TotalCharges, dtype: float64\n"
     ]
    },
    {
     "data": {
      "image/png": "[encoded data removed]",
      "text/plain": [
       "<Figure size 640x480 with 1 Axes>"
      ]
     },
     "metadata": {},
     "output_type": "display_data"
    }
   ],
   "source": [
    "for col in ['tenure', 'MonthlyCharges', 'TotalCharges']:\n",
    "    print(f\"\\n{col} stats:\")\n",
    "    print(data[col].describe())\n",
    "    sns.boxplot(data=data, x=col)\n",
    "    plt.title(f'{col} Boxplot')\n",
    "    plt.show()"
   ]
  },
  {
   "cell_type": "code",
   "execution_count": 25,
   "id": "55ba5ab2",
   "metadata": {},
   "outputs": [
    {
     "data": {
      "image/png": "[encoded data removed]",
      "text/plain": [
       "<Figure size 640x480 with 1 Axes>"
      ]
     },
     "metadata": {},
     "output_type": "display_data"
    },
    {
     "data": {
      "image/png": "[encoded data removed]",
      "text/plain": [
       "<Figure size 640x480 with 1 Axes>"
      ]
     },
     "metadata": {},
     "output_type": "display_data"
    },
    {
     "data": {
      "image/png": "[encoded data removed]",
      "text/plain": [
       "<Figure size 640x480 with 1 Axes>"
      ]
     },
     "metadata": {},
     "output_type": "display_data"
    }
   ],
   "source": [
    "numeric_cols = ['tenure', 'MonthlyCharges', 'TotalCharges']\n",
    "\n",
    "for col in numeric_cols:\n",
    "    plt.figure()\n",
    "    sns.histplot(data[col], kde=True)\n",
    "    plt.title(f'{col} Distribution')"
   ]
  },
  {
   "cell_type": "code",
   "execution_count": 27,
   "id": "3d62bad1",
   "metadata": {},
   "outputs": [
    {
     "data": {
      "image/png": "[encoded data removed]",
      "text/plain": [
       "<Figure size 640x480 with 1 Axes>"
      ]
     },
     "metadata": {},
     "output_type": "display_data"
    },
    {
     "data": {
      "image/png": "[encoded data removed]",
      "text/plain": [
       "<Figure size 640x480 with 1 Axes>"
      ]
     },
     "metadata": {},
     "output_type": "display_data"
    },
    {
     "data": {
      "image/png": "[encoded data removed]",
      "text/plain": [
       "<Figure size 640x480 with 1 Axes>"
      ]
     },
     "metadata": {},
     "output_type": "display_data"
    }
   ],
   "source": [
    "# Convert Churn column to binary: Yes=1, No=0\n",
    "data['Churn_flag'] = data['Churn'].map({'Yes': 1, 'No': 0})\n",
    "\n",
    "# Compare numeric features with Churn using boxplots\n",
    "for col in numeric_cols:\n",
    "    plt.figure()\n",
    "    sns.boxplot(x='Churn', y=col, data=data)\n",
    "    plt.title(f'{col} vs Churn')\n"
   ]
  },
  {
   "cell_type": "code",
   "execution_count": 29,
   "id": "b69a9d7a",
   "metadata": {},
   "outputs": [
    {
     "name": "stdout",
     "output_type": "stream",
     "text": [
      "Index(['customerID', 'gender', 'SeniorCitizen', 'Partner', 'Dependents',\n",
      "       'PhoneService', 'MultipleLines', 'InternetService', 'OnlineSecurity',\n",
      "       'OnlineBackup', 'DeviceProtection', 'TechSupport', 'StreamingTV',\n",
      "       'StreamingMovies', 'Contract', 'PaperlessBilling', 'PaymentMethod',\n",
      "       'Churn'],\n",
      "      dtype='object')\n"
     ]
    }
   ],
   "source": [
    "#catogorical columns\n",
    "cat_col=data.select_dtypes(include='object').columns\n",
    "print(cat_col)"
   ]
  },
  {
   "cell_type": "code",
   "execution_count": 34,
   "id": "b506fd7d",
   "metadata": {},
   "outputs": [
    {
     "name": "stdout",
     "output_type": "stream",
     "text": [
      "\n",
      "customerID vs Churn:\n",
      "Churn        No  Yes\n",
      "customerID          \n",
      "0002-ORFBO  1.0  0.0\n",
      "0011-IGKFF  0.0  1.0\n",
      "0013-EXCHZ  0.0  1.0\n",
      "0013-MHZWF  1.0  0.0\n",
      "0013-SMEOE  1.0  0.0\n",
      "...         ...  ...\n",
      "9985-MWVIX  0.0  1.0\n",
      "9992-RRAMN  0.0  1.0\n",
      "9992-UJOEL  1.0  0.0\n",
      "9993-LHIEB  1.0  0.0\n",
      "9995-HOTOH  1.0  0.0\n",
      "\n",
      "[5042 rows x 2 columns]\n",
      "\n",
      "gender vs Churn:\n",
      "Churn         No       Yes\n",
      "gender                    \n",
      "Female  0.733897  0.266103\n",
      "Male    0.736122  0.263878\n",
      "\n",
      "SeniorCitizen vs Churn:\n",
      "Churn                No       Yes\n",
      "SeniorCitizen                    \n",
      "No             0.764149  0.235851\n",
      "Yes            0.584860  0.415140\n",
      "\n",
      "Partner vs Churn:\n",
      "Churn          No       Yes\n",
      "Partner                    \n",
      "No       0.674275  0.325725\n",
      "Yes      0.798942  0.201058\n",
      "\n",
      "Dependents vs Churn:\n",
      "Churn             No       Yes\n",
      "Dependents                    \n",
      "No          0.684286  0.315714\n",
      "Yes         0.848174  0.151826\n",
      "\n",
      "PhoneService vs Churn:\n",
      "Churn               No       Yes\n",
      "PhoneService                    \n",
      "No            0.754601  0.245399\n",
      "Yes           0.732923  0.267077\n",
      "\n",
      "MultipleLines vs Churn:\n",
      "Churn                No       Yes\n",
      "MultipleLines                    \n",
      "No             0.749622  0.250378\n",
      "Yes            0.713950  0.286050\n",
      "\n",
      "InternetService vs Churn:\n",
      "Churn                  No       Yes\n",
      "InternetService                    \n",
      "DSL              0.819825  0.180175\n",
      "Fiber optic      0.576769  0.423231\n",
      "No               0.929630  0.070370\n",
      "\n",
      "OnlineSecurity vs Churn:\n",
      "Churn                 No       Yes\n",
      "OnlineSecurity                    \n",
      "No              0.631131  0.368869\n",
      "Yes             0.852921  0.147079\n",
      "\n",
      "OnlineBackup vs Churn:\n",
      "Churn               No       Yes\n",
      "OnlineBackup                    \n",
      "No            0.651128  0.348872\n",
      "Yes           0.786828  0.213172\n",
      "\n",
      "DeviceProtection vs Churn:\n",
      "Churn                   No       Yes\n",
      "DeviceProtection                    \n",
      "No                0.658610  0.341390\n",
      "Yes               0.774527  0.225473\n",
      "\n",
      "TechSupport vs Churn:\n",
      "Churn              No       Yes\n",
      "TechSupport                    \n",
      "No           0.628966  0.371034\n",
      "Yes          0.851777  0.148223\n",
      "\n",
      "StreamingTV vs Churn:\n",
      "Churn              No       Yes\n",
      "StreamingTV                    \n",
      "No           0.709031  0.290969\n",
      "Yes          0.699074  0.300926\n",
      "\n",
      "StreamingMovies vs Churn:\n",
      "Churn                  No       Yes\n",
      "StreamingMovies                    \n",
      "No               0.713278  0.286722\n",
      "Yes              0.694094  0.305906\n",
      "\n",
      "Contract vs Churn:\n",
      "Churn                 No       Yes\n",
      "Contract                          \n",
      "Month-to-month  0.568513  0.431487\n",
      "One year        0.884360  0.115640\n",
      "Two year        0.975865  0.024135\n",
      "\n",
      "PaperlessBilling vs Churn:\n",
      "Churn                   No       Yes\n",
      "PaperlessBilling                    \n",
      "No                0.838300  0.161700\n",
      "Yes               0.664441  0.335559\n",
      "\n",
      "PaymentMethod vs Churn:\n",
      "Churn                            No       Yes\n",
      "PaymentMethod                                \n",
      "Bank transfer (automatic)  0.824000  0.176000\n",
      "Credit card (automatic)    0.845872  0.154128\n",
      "Electronic check           0.553855  0.446145\n",
      "Mailed check               0.812057  0.187943\n",
      "\n",
      "Churn vs Churn:\n",
      "Churn   No  Yes\n",
      "Churn          \n",
      "No     1.0  0.0\n",
      "Yes    0.0  1.0\n"
     ]
    }
   ],
   "source": [
    "for col in cat_col:\n",
    "    print(f\"\\n{col} vs Churn:\")\n",
    "    print(pd.crosstab(data[col],data['Churn'],normalize='index'))"
   ]
  },
  {
   "cell_type": "markdown",
   "id": "64b64c58",
   "metadata": {},
   "source": [
    "| **Feature**           | **Key Pattern / Insight**                                           | **Churn Tendency**               |\n",
    "| --------------------- | ------------------------------------------------------------------- | -------------------------------- |\n",
    "| **Tenure**            | Low-tenure customers are more likely to churn.                      | 📈 Higher churn for short tenure |\n",
    "| **Contract Type**     | Month-to-month users churn much more than 1–2 year users.           | 📈 Month-to-month = 43% churn    |\n",
    "| **Senior Citizen**    | Senior citizens have a significantly higher churn rate.             | 📈 41% churn vs 24% others       |\n",
    "| **Internet Service**  | Fiber optic users churn more than DSL or non-internet users.        | 📈 Fiber = 42% churn             |\n",
    "| **Online Security**   | Lack of security services leads to more churn.                      | 📈 No security = 37% churn       |\n",
    "| **Tech Support**      | No tech support is linked to higher churn.                          | 📈 No support = 37% churn        |\n",
    "| **Paperless Billing** | Paperless billing users churn more.                                 | 📈 33% churn vs 16%              |\n",
    "| **Payment Method**    | Electronic check users have the highest churn.                      | 📈 44.6% churn                   |\n",
    "| **Total Charges**     | Low charges often mean new customers, who are more likely to churn. | 🔁 Indirect effect via tenure    |\n"
   ]
  },
  {
   "cell_type": "code",
   "execution_count": null,
   "id": "e960f858",
   "metadata": {},
   "outputs": [],
   "source": [
    "cat=['SeniorCitizen', 'Partner', 'Dependents', 'MultipleLines',\n",
    " 'InternetService', 'OnlineSecurity', 'OnlineBackup',\n",
    " 'DeviceProtection', 'TechSupport', 'Contract',\n",
    " 'PaperlessBilling', 'PaymentMethod']\n"
   ]
  },
  {
   "cell_type": "code",
   "execution_count": 37,
   "id": "8cbcb6b9",
   "metadata": {},
   "outputs": [
    {
     "name": "stdout",
     "output_type": "stream",
     "text": [
      "                  tenure  MonthlyCharges  TotalCharges\n",
      "tenure          1.000000        0.240645      0.825839\n",
      "MonthlyCharges  0.240645        1.000000      0.646828\n",
      "TotalCharges    0.825839        0.646828      1.000000\n"
     ]
    }
   ],
   "source": [
    "# correlations\n",
    "correlation=data[numeric_cols].corr()\n",
    "print(correlation)"
   ]
  },
  {
   "cell_type": "code",
   "execution_count": 39,
   "id": "1f84781f",
   "metadata": {},
   "outputs": [
    {
     "data": {
      "image/png": "[encoded data removed]",
      "text/plain": [
       "<Figure size 500x300 with 2 Axes>"
      ]
     },
     "metadata": {},
     "output_type": "display_data"
    }
   ],
   "source": [
    "\n",
    "# Visualizing correlations\n",
    "plt.figure(figsize=(5, 3))\n",
    "sns.heatmap(correlation, annot=True, cmap='coolwarm')\n",
    "plt.show()\n"
   ]
  },
  {
   "cell_type": "markdown",
   "id": "66efbdbf",
   "metadata": {},
   "source": [
    "## What I Found (EDA Summary)\n",
    "\n",
    "### Interesting Patterns:\n",
    "- People with **shorter tenure** (newer customers) are more likely to churn.\n",
    "- Customers with **month-to-month contracts** leave more often.\n",
    "- **Senior citizens** tend to churn more than younger customers.\n",
    "- Having **no tech support** or **online security** is linked to higher churn.\n",
    "- Using **fiber optic internet** also seems to increase churn.\n",
    "\n",
    "---\n",
    "\n",
    "### ✅ Features I’ll Keep:\n",
    "- Good ones: `Contract`, `InternetService`, `TechSupport`, `tenure`, `MonthlyCharges`, `TotalCharges`, etc.\n",
    "\n",
    "---\n",
    "\n",
    "### ❌ Features to Fix or Remove:\n",
    "- `customerID`: Just an ID, not useful for predictions.\n",
    "- `TotalCharges`: Has missing values – needs fixing before use.\n",
    "\n",
    "---\n",
    "\n",
    "### What I’ll Do Next:\n",
    "- Clean `TotalCharges` (convert to number, fill or drop missing)\n",
    "- Turn text data (like Contract, Gender) into numbers (encoding)\n",
    "- Maybe scale the numbers (like MonthlyCharges) if needed\n",
    "- Then, split the data and try out some models!\n",
    "\n"
   ]
  },
  {
   "cell_type": "code",
   "execution_count": 42,
   "id": "eb41fad2",
   "metadata": {},
   "outputs": [],
   "source": [
    "data.to_csv(r'C:\\Users\\raich\\Desktop\\project2\\-Customer-Churn-Demand-Prediction-Using-ML\\Data\\cleaned_telco.csv', index=False)\n"
   ]
  },
  {
   "cell_type": "markdown",
   "id": "cdeaa150",
   "metadata": {},
   "source": []
  }
 ],
 "metadata": {
  "kernelspec": {
   "display_name": "base",
   "language": "python",
   "name": "python3"
  },
  "language_info": {
   "codemirror_mode": {
    "name": "ipython",
    "version": 3
   },
   "file_extension": ".py",
   "mimetype": "text/x-python",
   "name": "python",
   "nbconvert_exporter": "python",
   "pygments_lexer": "ipython3",
   "version": "3.12.7"
  }
 },
 "nbformat": 4,
 "nbformat_minor": 5
}
